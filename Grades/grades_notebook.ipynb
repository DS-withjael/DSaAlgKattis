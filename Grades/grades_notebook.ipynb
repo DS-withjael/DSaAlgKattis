{
 "cells": [
  {
   "cell_type": "code",
   "execution_count": 9,
   "metadata": {},
   "outputs": [],
   "source": [
    "class Grade():\n",
    "\n",
    "    def __init__(self, string, value=0):\n",
    "        self.string = string\n",
    "        self.value = value\n",
    "        for i in string:\n",
    "            if i == \"A\":\n",
    "                self.value = 140\n",
    "            elif i == \"B\":\n",
    "                self.value = 120\n",
    "            elif i == \"C\":\n",
    "                self.value = 100\n",
    "            elif i == \"D\":\n",
    "                self.value = 80\n",
    "            elif i == \"E\":\n",
    "                self.value = 60\n",
    "            elif i == \"FX\":\n",
    "                self.value = 40\n",
    "            elif i == \"F\":\n",
    "                self.value = 20\n",
    "            elif i == \"+\":\n",
    "                self.value += 1\n",
    "            elif i == \"-\":\n",
    "                self.value -= 1\n",
    "            \n",
    "    def value(self):\n",
    "        return self.value\n"
   ]
  },
  {
   "cell_type": "code",
   "execution_count": 10,
   "metadata": {},
   "outputs": [
    {
     "data": {
      "text/plain": [
       "142"
      ]
     },
     "execution_count": 10,
     "metadata": {},
     "output_type": "execute_result"
    }
   ],
   "source": [
    "test = Grade(\"A++\") \n",
    "test.value"
   ]
  },
  {
   "cell_type": "code",
   "execution_count": null,
   "metadata": {},
   "outputs": [],
   "source": []
  }
 ],
 "metadata": {
  "interpreter": {
   "hash": "d3e6893034f128a835c9c42eafcee240746b38ce952c92456b3eaf9b86278a92"
  },
  "kernelspec": {
   "display_name": "Python 3.8.12 ('env-01')",
   "language": "python",
   "name": "python3"
  },
  "language_info": {
   "codemirror_mode": {
    "name": "ipython",
    "version": 3
   },
   "file_extension": ".py",
   "mimetype": "text/x-python",
   "name": "python",
   "nbconvert_exporter": "python",
   "pygments_lexer": "ipython3",
   "version": "3.8.12"
  },
  "orig_nbformat": 4
 },
 "nbformat": 4,
 "nbformat_minor": 2
}
