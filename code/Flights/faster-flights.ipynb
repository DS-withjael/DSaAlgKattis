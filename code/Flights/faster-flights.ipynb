{
 "cells": [
  {
   "cell_type": "code",
   "execution_count": 1,
   "metadata": {},
   "outputs": [],
   "source": [
    "Flights_Dict = {}\n",
    "\n",
    "def delay_flight(time, delay):\n",
    "    destination = Flights_Dict[time]\n",
    "    hr, mn, sc = int(time[0:2]), int(time[3:5]), int(time[6:8])\n",
    "\n",
    "    add_sc = int(delay)\n",
    "    add_sc = add_sc % (24*3600)\n",
    "    add_hr = add_sc // 3600\n",
    "    add_sc %= 3600\n",
    "    add_mn = add_sc // 60\n",
    "    add_sc %= 60\n",
    "\n",
    "    hr += add_hr\n",
    "    mn += add_mn\n",
    "    sc += add_sc\n",
    "\n",
    "    if sc >= 60:\n",
    "        sc -= 60\n",
    "        mn += 1\n",
    "    if mn >= 60:\n",
    "        mn -= 60\n",
    "        hr += 1\n",
    "    if hr >= 24:\n",
    "        hr -= 24\n",
    "\n",
    "    if len(str(hr)) < 2:\n",
    "        hr = str(hr)\n",
    "        hr = '0' + hr\n",
    "    if len(str(mn)) < 2:\n",
    "        mn = str(mn)\n",
    "        mn = '0' + mn\n",
    "    if len(str(sc)) < 2:\n",
    "        sc = str(sc)\n",
    "        sc = '0' + sc\n",
    "    new_time = f\"{hr}:{mn}:{sc}\"\n",
    "    Flights_Dict.pop(time)\n",
    "    Flights_Dict.setdefault(new_time, destination)\n",
    "    return   "
   ]
  },
  {
   "cell_type": "code",
   "execution_count": 8,
   "metadata": {},
   "outputs": [
    {
     "name": "stdout",
     "output_type": "stream",
     "text": [
      "09:00:00 Chicago\n"
     ]
    }
   ],
   "source": [
    "def next_departure(time):\n",
    "    second_list = [i for i in Flights_Dict.keys()]\n",
    "    \n",
    "    second_list.append(time)\n",
    "    second_list = sorted(second_list)\n",
    "\n",
    "    start_index = second_list.index(time)\n",
    "    second_list = second_list[start_index:]\n",
    "    \n",
    "    return print(second_list[1], Flights_Dict[second_list[1]])\n",
    "\n",
    "Flights_Dict = {'09:00:00': 'Chicago', '09:00:03': 'Phoenix', '09:00:13': 'Houston', '09:00:59': 'Chicago', '09:01:10': 'Houston', '09:03:13': 'Chicago', '09:10:11': 'Seattle', '09:10:25': 'Seattle', '09:14:25': 'Phoenix', '09:19:32': 'Chicago', '09:19:46': 'Chicago', '09:21:05': 'Chicago', '09:22:43': 'Seattle', '09:22:54': 'Seattle'}\n",
    "next_departure(\"09:00:00\")"
   ]
  },
  {
   "cell_type": "code",
   "execution_count": 11,
   "metadata": {},
   "outputs": [
    {
     "data": {
      "text/plain": [
       "'Chicago'"
      ]
     },
     "execution_count": 11,
     "metadata": {},
     "output_type": "execute_result"
    }
   ],
   "source": [
    "Flights_Dict[\"09:00:00\"]"
   ]
  },
  {
   "cell_type": "code",
   "execution_count": null,
   "metadata": {},
   "outputs": [],
   "source": [
    "def next_departure2(time):\n",
    "    Flights_Dict.setdefault(time, \"next-dep\")\n",
    "    t=0\n",
    "\n",
    "    for i, j in enumerate(Flights_Dict):\n",
    "        "
   ]
  },
  {
   "cell_type": "code",
   "execution_count": 3,
   "metadata": {},
   "outputs": [],
   "source": [
    "def count_flights(t1, t2):\n",
    "    second_list = [i for i in Flights_Dict.keys()]\n",
    "    second_list.append(t1)\n",
    "    second_list.append(t2)\n",
    "    second_list = sorted(second_list)\n",
    "\n",
    "    t1_index = second_list.index(t1)\n",
    "    # the last occurence of t2 in the list:\n",
    "    t2_index = len(second_list) - 1 - second_list[::-1].index(t2)\n",
    "\n",
    "    second_list = second_list[t1_index+1:t2_index]\n",
    "    return print(len(second_list))"
   ]
  },
  {
   "cell_type": "code",
   "execution_count": 4,
   "metadata": {},
   "outputs": [],
   "source": [
    "def main():\n",
    "    flights , ops = map(int, input().split())\n",
    "\n",
    "    for _ in range(flights):\n",
    "        flight = input().split()\n",
    "        time, destination = flight\n",
    "        Flights_Dict.setdefault(time, destination)\n",
    "    # print(Flights_Dict)\n",
    "\n",
    "    for _ in range(ops):\n",
    "        operation = input().split()\n",
    "        # print(operation)\n",
    "\n",
    "        if operation[0] == \"destination\":\n",
    "            try:\n",
    "                print(Flights_Dict[operation[1]])\n",
    "            except KeyError:\n",
    "                print(\"-\")\n",
    "\n",
    "        elif operation[0] == \"cancel\":\n",
    "            Flights_Dict.pop(operation[1])\n",
    "\n",
    "        elif operation[0] == \"delay\":\n",
    "            delay_flight(operation[1], operation[2])\n",
    "\n",
    "        elif operation[0] == \"reroute\":\n",
    "            Flights_Dict[operation[1]] = operation[2]\n",
    "\n",
    "        elif operation[0] == \"next\":\n",
    "            next_departure(operation[1])\n",
    "\n",
    "        elif operation[0] == \"count\":\n",
    "            count_flights(operation[1], operation[2])"
   ]
  },
  {
   "cell_type": "code",
   "execution_count": 5,
   "metadata": {},
   "outputs": [],
   "source": []
  },
  {
   "cell_type": "code",
   "execution_count": null,
   "metadata": {},
   "outputs": [],
   "source": []
  }
 ],
 "metadata": {
  "interpreter": {
   "hash": "e74b1cfbd43f5e9987257695b4c1028d58a9925544063b10b0d271fe16a9c29c"
  },
  "kernelspec": {
   "display_name": "Python 3.9.7 64-bit",
   "language": "python",
   "name": "python3"
  },
  "language_info": {
   "codemirror_mode": {
    "name": "ipython",
    "version": 3
   },
   "file_extension": ".py",
   "mimetype": "text/x-python",
   "name": "python",
   "nbconvert_exporter": "python",
   "pygments_lexer": "ipython3",
   "version": "3.9.7"
  },
  "orig_nbformat": 4
 },
 "nbformat": 4,
 "nbformat_minor": 2
}
