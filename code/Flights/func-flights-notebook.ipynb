{
 "cells": [
  {
   "cell_type": "code",
   "execution_count": 49,
   "metadata": {},
   "outputs": [],
   "source": [
    "Flights_Dict = {}"
   ]
  },
  {
   "cell_type": "code",
   "execution_count": 50,
   "metadata": {},
   "outputs": [],
   "source": [
    "def new_flight(time, destination):\n",
    "    Flights_Dict.setdefault(time, destination)"
   ]
  },
  {
   "cell_type": "code",
   "execution_count": 51,
   "metadata": {},
   "outputs": [
    {
     "data": {
      "text/plain": [
       "{'09:00:00': 'Chicago'}"
      ]
     },
     "execution_count": 51,
     "metadata": {},
     "output_type": "execute_result"
    }
   ],
   "source": [
    "new_flight(\"09:00:00\", \"Chicago\")\n",
    "Flights_Dict"
   ]
  },
  {
   "cell_type": "code",
   "execution_count": 52,
   "metadata": {},
   "outputs": [],
   "source": [
    "def cancel_flight(time):\n",
    "    Flights_Dict.pop(time)"
   ]
  },
  {
   "cell_type": "code",
   "execution_count": 53,
   "metadata": {},
   "outputs": [
    {
     "data": {
      "text/plain": [
       "{}"
      ]
     },
     "execution_count": 53,
     "metadata": {},
     "output_type": "execute_result"
    }
   ],
   "source": [
    "cancel_flight('09:00:00')\n",
    "Flights_Dict"
   ]
  },
  {
   "cell_type": "code",
   "execution_count": 54,
   "metadata": {},
   "outputs": [],
   "source": [
    "def convert_time(time_string):\n",
    "    hr = time_string[0:2]\n",
    "    mn = time_string[3:5]\n",
    "    sc = time_string[6:8]\n",
    "    return int(hr), int(mn), int(sc)\n",
    "\n",
    "def convert_delay(seconds:int):\n",
    "    seconds = seconds % (24 * 3600)\n",
    "    hour = seconds // 3600\n",
    "    seconds %= 3600\n",
    "    minutes = seconds // 60\n",
    "    seconds %= 60\n",
    "    return hour, minutes, seconds\n",
    "\n",
    "def delay_flight(time, delay):\n",
    "    destination = Flights_Dict[time]\n",
    "    hr, mn, sc = convert_time(time)\n",
    "    add_hr, add_mn, add_sc = convert_delay(delay)\n",
    "\n",
    "    hr += add_hr\n",
    "    mn += add_mn\n",
    "    sc += add_sc\n",
    "    if hr > 24:\n",
    "        hr -= 24\n",
    "    if mn > 60:\n",
    "        mn -= 60\n",
    "    if sc > 60:\n",
    "        sc -= 60\n",
    "\n",
    "    if len(str(hr)) < 2:\n",
    "        hr = str(hr)\n",
    "        hr = '0' + hr\n",
    "    if len(str(mn)) < 2:\n",
    "        mn = str(mn)\n",
    "        mn = '0' + mn\n",
    "    if len(str(sc)) < 2:\n",
    "        sc = str(sc)\n",
    "        sc = '0' + sc\n",
    "    new_time = f\"{hr}:{mn}:{sc}\"\n",
    "    Flights_Dict.pop(time)\n",
    "    Flights_Dict.setdefault(new_time, destination)\n",
    "    return"
   ]
  },
  {
   "cell_type": "code",
   "execution_count": 55,
   "metadata": {},
   "outputs": [
    {
     "data": {
      "text/plain": [
       "(9, 0, 0)"
      ]
     },
     "execution_count": 55,
     "metadata": {},
     "output_type": "execute_result"
    }
   ],
   "source": [
    "convert_time(\"09:00:00\")"
   ]
  },
  {
   "cell_type": "code",
   "execution_count": 56,
   "metadata": {},
   "outputs": [
    {
     "data": {
      "text/plain": [
       "(0, 7, 30)"
      ]
     },
     "execution_count": 56,
     "metadata": {},
     "output_type": "execute_result"
    }
   ],
   "source": [
    "convert_delay(450)"
   ]
  },
  {
   "cell_type": "code",
   "execution_count": 57,
   "metadata": {},
   "outputs": [],
   "source": [
    "new_flight(\"09:00:00\", \"Chicago\")\n",
    "delay_flight(\"09:00:00\", 450)"
   ]
  },
  {
   "cell_type": "code",
   "execution_count": 58,
   "metadata": {},
   "outputs": [
    {
     "data": {
      "text/plain": [
       "{'09:07:30': 'Chicago'}"
      ]
     },
     "execution_count": 58,
     "metadata": {},
     "output_type": "execute_result"
    }
   ],
   "source": [
    "Flights_Dict"
   ]
  },
  {
   "cell_type": "code",
   "execution_count": 59,
   "metadata": {},
   "outputs": [],
   "source": [
    "def reroute_flight(time, new_destination):\n",
    "    Flights_Dict[time] =  new_destination"
   ]
  },
  {
   "cell_type": "code",
   "execution_count": 60,
   "metadata": {},
   "outputs": [],
   "source": [
    "reroute_flight(\"09:07:30\", \"Copenhagen\")"
   ]
  },
  {
   "cell_type": "code",
   "execution_count": 61,
   "metadata": {},
   "outputs": [
    {
     "data": {
      "text/plain": [
       "{'09:07:30': 'Copenhagen'}"
      ]
     },
     "execution_count": 61,
     "metadata": {},
     "output_type": "execute_result"
    }
   ],
   "source": [
    "Flights_Dict"
   ]
  },
  {
   "cell_type": "code",
   "execution_count": 62,
   "metadata": {},
   "outputs": [],
   "source": [
    "def show_destination(time):\n",
    "    try:\n",
    "        print(Flights_Dict[time])\n",
    "    except KeyError:\n",
    "        print(\"-\")\n",
    "    "
   ]
  },
  {
   "cell_type": "code",
   "execution_count": 63,
   "metadata": {},
   "outputs": [
    {
     "name": "stdout",
     "output_type": "stream",
     "text": [
      "Copenhagen\n"
     ]
    }
   ],
   "source": [
    "show_destination(\"09:07:30\")"
   ]
  },
  {
   "cell_type": "code",
   "execution_count": 64,
   "metadata": {},
   "outputs": [
    {
     "data": {
      "text/plain": [
       "{'09:07:30': 'Copenhagen'}"
      ]
     },
     "execution_count": 64,
     "metadata": {},
     "output_type": "execute_result"
    }
   ],
   "source": [
    "Flights_Dict"
   ]
  },
  {
   "cell_type": "code",
   "execution_count": 65,
   "metadata": {},
   "outputs": [],
   "source": [
    "def convert_to_sec(time):\n",
    "    seperated_time = convert_time(time)\n",
    "    hr, mn, sc = seperated_time\n",
    "    total_seconds = sc + mn*60 + hr*3600\n",
    "    return total_seconds    "
   ]
  },
  {
   "cell_type": "code",
   "execution_count": 66,
   "metadata": {},
   "outputs": [],
   "source": [
    "def next_departure(time):\n",
    "    second_list = list()\n",
    "    for i in Flights_Dict.keys():\n",
    "        seconds = convert_to_sec(i)\n",
    "        second_list.append(seconds)\n",
    "\n",
    "    second_list.append(convert_to_sec(time))\n",
    "    second_list = sorted(second_list)\n",
    "\n",
    "    start_index = second_list.index(convert_to_sec(time))\n",
    "    second_list = second_list[start_index:]\n",
    "\n",
    "    hr, mn, sc = convert_delay(second_list[1])\n",
    "    if len(str(hr)) < 2:\n",
    "        hr = str(hr)\n",
    "        hr = '0' + hr\n",
    "    if len(str(mn)) < 2:\n",
    "        mn = str(mn)\n",
    "        mn = '0' + mn\n",
    "    if len(str(sc)) < 2:\n",
    "        sc = str(sc)\n",
    "        sc = '0' + sc\n",
    "    return f\"{hr}:{mn}:{sc}\"\n",
    "    "
   ]
  },
  {
   "cell_type": "code",
   "execution_count": 67,
   "metadata": {},
   "outputs": [
    {
     "data": {
      "text/plain": [
       "'09:07:30'"
      ]
     },
     "execution_count": 67,
     "metadata": {},
     "output_type": "execute_result"
    }
   ],
   "source": [
    "next_departure(\"09:00:00\")"
   ]
  },
  {
   "cell_type": "code",
   "execution_count": 68,
   "metadata": {},
   "outputs": [],
   "source": [
    "Flights_Dict = {'09:00:00': 'Chicago', '09:00:03': 'Phoenix', '09:00:13': 'Houston', '09:00:59': 'Chicago', '09:01:10': 'Houston', '09:03:13': 'Chicago', '09:10:11': 'Seattle', '09:10:25': 'Seattle', '09:14:25': 'Phoenix', '09:19:32': 'Chicago', '09:19:46': 'Chicago', '09:21:05': 'Chicago', '09:22:43': 'Seattle', '09:22:54': 'Seattle'}"
   ]
  },
  {
   "cell_type": "code",
   "execution_count": 69,
   "metadata": {},
   "outputs": [],
   "source": [
    "def count_flights(t1, t2):\n",
    "    second_list = [i for i in Flights_Dict.keys()]\n",
    "\n",
    "    second_list.append(t1)\n",
    "    second_list.append(t2)\n",
    "    second_list = sorted(second_list)\n",
    "\n",
    "    t1_index = second_list.index(t1)\n",
    "    # the last occurence of t2 in the list:\n",
    "    t2_index = len(second_list) - 1 - second_list[::-1].index(t2)\n",
    "\n",
    "    second_list = second_list[t1_index+1:t2_index]\n",
    "    return print(len(second_list))"
   ]
  },
  {
   "cell_type": "code",
   "execution_count": 70,
   "metadata": {},
   "outputs": [
    {
     "name": "stdout",
     "output_type": "stream",
     "text": [
      "5\n"
     ]
    }
   ],
   "source": [
    "count_flights(\"09:00:30\", \"09:10:25\")"
   ]
  },
  {
   "cell_type": "code",
   "execution_count": 71,
   "metadata": {},
   "outputs": [],
   "source": [
    "Flights_Dict = {}"
   ]
  },
  {
   "cell_type": "code",
   "execution_count": 72,
   "metadata": {},
   "outputs": [
    {
     "name": "stdout",
     "output_type": "stream",
     "text": [
      "0\n"
     ]
    }
   ],
   "source": [
    "count_flights(\"11:00:01\", \"12:59:59\")"
   ]
  },
  {
   "cell_type": "code",
   "execution_count": 73,
   "metadata": {},
   "outputs": [],
   "source": [
    "Flights_Dict = {'09:00:00': 'Chicago', '09:00:03': 'Phoenix', '09:00:13': 'Houston', '09:00:59': 'Chicago', '09:01:10': 'Houston', '09:03:13': 'Chicago', '09:10:11': 'Seattle', '09:10:25': 'Seattle', '09:14:25': 'Phoenix', '09:19:32': 'Chicago', '09:19:46': 'Chicago', '09:21:05': 'Chicago', '09:22:43': 'Seattle', '09:22:54': 'Seattle'}"
   ]
  },
  {
   "cell_type": "code",
   "execution_count": 82,
   "metadata": {},
   "outputs": [],
   "source": [
    "def next_departure(time):\n",
    "    second_list = [i for i in Flights_Dict.keys()]\n",
    "\n",
    "    second_list.append(time)\n",
    "    second_list = sorted(second_list)\n",
    "\n",
    "    start_index = second_list.index(time)\n",
    "    second_list = second_list[start_index:]\n",
    "    \n",
    "    return print(second_list[1], Flights_Dict[second_list[1]])"
   ]
  },
  {
   "cell_type": "code",
   "execution_count": 83,
   "metadata": {},
   "outputs": [
    {
     "name": "stdout",
     "output_type": "stream",
     "text": [
      "09:10:11 Seattle\n"
     ]
    }
   ],
   "source": [
    "next_departure(\"09:10:00\")"
   ]
  },
  {
   "cell_type": "code",
   "execution_count": 107,
   "metadata": {},
   "outputs": [],
   "source": [
    "def delay_flight(time, delay):\n",
    "    destination = Flights_Dict[time]\n",
    "    hr, mn, sc = int(time[0:2]), int(time[3:5]), int(time[6:8])\n",
    "    print(hr, mn, sc)\n",
    "\n",
    "    add_sc = int(delay)\n",
    "    add_sc = add_sc % (24*3600)\n",
    "    add_hr = add_sc // 3600\n",
    "    add_sc %= 3600\n",
    "    add_mn = add_sc // 60\n",
    "    add_sc %= 60\n",
    "    print(add_hr, add_mn, add_mn)\n",
    "\n",
    "    hr += add_hr\n",
    "    mn += add_mn\n",
    "    sc += add_sc\n",
    "    print(hr, mn, sc)\n",
    "\n",
    "    if sc >= 60:\n",
    "        sc -= 60\n",
    "        mn += 1\n",
    "    if mn >= 60:\n",
    "        mn -= 60\n",
    "        hr += 1\n",
    "    if hr >= 24:\n",
    "        hr -= 24\n",
    "\n",
    "    if len(str(hr)) < 2:\n",
    "        hr = str(hr)\n",
    "        hr = '0' + hr\n",
    "    if len(str(mn)) < 2:\n",
    "        mn = str(mn)\n",
    "        mn = '0' + mn\n",
    "    if len(str(sc)) < 2:\n",
    "        sc = str(sc)\n",
    "        sc = '0' + sc\n",
    "    new_time = f\"{hr}:{mn}:{sc}\"\n",
    "    print(new_time)\n",
    "    Flights_Dict.pop(time)\n",
    "    Flights_Dict.setdefault(new_time, destination)\n",
    "    return  \n",
    "\n",
    "Flights_Dict = {'11:00:00': 'Chicago', '12:00:00': 'Seattle'}"
   ]
  },
  {
   "cell_type": "code",
   "execution_count": 108,
   "metadata": {},
   "outputs": [
    {
     "name": "stdout",
     "output_type": "stream",
     "text": [
      "12 0 0\n",
      "1 0 0\n",
      "13 0 0\n",
      "13:00:00\n"
     ]
    }
   ],
   "source": [
    "delay_flight(\"12:00:00\", 3600)"
   ]
  },
  {
   "cell_type": "code",
   "execution_count": 109,
   "metadata": {},
   "outputs": [
    {
     "data": {
      "text/plain": [
       "{'11:00:00': 'Chicago', '13:00:00': 'Seattle'}"
      ]
     },
     "execution_count": 109,
     "metadata": {},
     "output_type": "execute_result"
    }
   ],
   "source": [
    "Flights_Dict"
   ]
  },
  {
   "cell_type": "code",
   "execution_count": 106,
   "metadata": {},
   "outputs": [
    {
     "data": {
      "text/plain": [
       "(1, 0, 0)"
      ]
     },
     "execution_count": 106,
     "metadata": {},
     "output_type": "execute_result"
    }
   ],
   "source": [
    "def convert_delay(seconds):\n",
    "    seconds = int(seconds)\n",
    "    seconds = seconds % (24 * 3600)\n",
    "    hour = seconds // 3600\n",
    "    seconds %= 3600\n",
    "    minutes = seconds // 60\n",
    "    seconds %= 60\n",
    "    return hour, minutes, seconds\n",
    "\n",
    "convert_delay(3600)"
   ]
  },
  {
   "cell_type": "code",
   "execution_count": null,
   "metadata": {},
   "outputs": [],
   "source": []
  }
 ],
 "metadata": {
  "interpreter": {
   "hash": "916dbcbb3f70747c44a77c7bcd40155683ae19c65e1c03b4aa3499c5328201f1"
  },
  "kernelspec": {
   "display_name": "Python 3.8.10 64-bit",
   "language": "python",
   "name": "python3"
  },
  "language_info": {
   "codemirror_mode": {
    "name": "ipython",
    "version": 3
   },
   "file_extension": ".py",
   "mimetype": "text/x-python",
   "name": "python",
   "nbconvert_exporter": "python",
   "pygments_lexer": "ipython3",
   "version": "3.8.10"
  },
  "orig_nbformat": 4
 },
 "nbformat": 4,
 "nbformat_minor": 2
}
