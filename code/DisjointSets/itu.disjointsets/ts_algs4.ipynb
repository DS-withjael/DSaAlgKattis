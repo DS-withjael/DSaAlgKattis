{
 "cells": [
  {
   "cell_type": "code",
   "execution_count": 2,
   "metadata": {},
   "outputs": [],
   "source": [
    "from itu.algs4.fundamentals.uf import UF\n",
    "from itu.algs4.stdlib.stdio import readInt, writeln"
   ]
  },
  {
   "cell_type": "code",
   "execution_count": 16,
   "metadata": {},
   "outputs": [],
   "source": [
    "def query(s, t):\n",
    "    if disjoint_set.connected(s, t):\n",
    "        return 1\n",
    "    else:\n",
    "        return 0"
   ]
  },
  {
   "cell_type": "code",
   "execution_count": 17,
   "metadata": {},
   "outputs": [],
   "source": [
    "def union(s, t):\n",
    "    disjoint_set.union(s, t)"
   ]
  },
  {
   "cell_type": "code",
   "execution_count": 5,
   "metadata": {},
   "outputs": [],
   "source": [
    "def input_s_t():\n",
    "    s = input().strip()\n",
    "    t = input().strip()\n",
    "    return s, t"
   ]
  },
  {
   "cell_type": "code",
   "execution_count": 15,
   "metadata": {},
   "outputs": [],
   "source": [
    "def main():\n",
    "    disjoint_set = UF(input().strip())\n",
    "    operations = input().strip()\n",
    "    for i in range(0, operations):\n",
    "        operation = input().strip()\n",
    "        if operation == \"0\":\n",
    "            query(input_s_t())\n",
    "        if operation == \"1\":\n",
    "            union(input_s_t())\n",
    "        if operation == \"2\":\n",
    "            # move(input_s_t())\n",
    "            return"
   ]
  },
  {
   "cell_type": "code",
   "execution_count": null,
   "metadata": {},
   "outputs": [],
   "source": []
  }
 ],
 "metadata": {
  "interpreter": {
   "hash": "5a00a9eb55b401af0ef265cf2e0271a91deb7cbec7bf9bc635241a31b5fc804e"
  },
  "kernelspec": {
   "display_name": "Python 3.8.12 64-bit ('base': conda)",
   "language": "python",
   "name": "python3"
  },
  "language_info": {
   "codemirror_mode": {
    "name": "ipython",
    "version": 3
   },
   "file_extension": ".py",
   "mimetype": "text/x-python",
   "name": "python",
   "nbconvert_exporter": "python",
   "pygments_lexer": "ipython3",
   "version": "3.8.12"
  },
  "orig_nbformat": 4
 },
 "nbformat": 4,
 "nbformat_minor": 2
}
