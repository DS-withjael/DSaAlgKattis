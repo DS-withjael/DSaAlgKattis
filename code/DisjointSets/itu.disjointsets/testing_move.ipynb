{
 "cells": [
  {
   "cell_type": "code",
   "execution_count": 1,
   "metadata": {},
   "outputs": [],
   "source": [
    "from itu.algs4.fundamentals.uf import UF"
   ]
  },
  {
   "cell_type": "code",
   "execution_count": 47,
   "metadata": {},
   "outputs": [
    {
     "data": {
      "text/plain": [
       "[2, 2, 2, 3]"
      ]
     },
     "execution_count": 47,
     "metadata": {},
     "output_type": "execute_result"
    }
   ],
   "source": [
    "test_set = UF(4)\n",
    "test_set._parent\n",
    "\n",
    "test_set.union(2, 0)\n",
    "test_set.union(2, 1)\n",
    "# test_set.union(3, 2)\n",
    "# test_set.union(3, 1)\n",
    "# test_set.union(0, 3)\n",
    "test_set._parent"
   ]
  },
  {
   "cell_type": "code",
   "execution_count": 49,
   "metadata": {},
   "outputs": [
    {
     "name": "stdout",
     "output_type": "stream",
     "text": [
      "[2, 2, 2, 3]\n",
      "[3, 3, 3, 3]\n"
     ]
    }
   ],
   "source": [
    "def move(s, t):\n",
    "    if test_set.find(s) == test_set.find(t):\n",
    "        return\n",
    "    else:\n",
    "        print(test_set._parent)\n",
    "        for i in enumerate(test_set._parent):\n",
    "            if i[1] == s:\n",
    "                test_set._parent[i[0]] = test_set.find(t)\n",
    "            \n",
    "        print(test_set._parent)\n",
    "        \n",
    "\n",
    "move(2, 3)"
   ]
  },
  {
   "cell_type": "code",
   "execution_count": null,
   "metadata": {},
   "outputs": [],
   "source": []
  }
 ],
 "metadata": {
  "interpreter": {
   "hash": "916dbcbb3f70747c44a77c7bcd40155683ae19c65e1c03b4aa3499c5328201f1"
  },
  "kernelspec": {
   "display_name": "Python 3.8.10 64-bit",
   "language": "python",
   "name": "python3"
  },
  "language_info": {
   "codemirror_mode": {
    "name": "ipython",
    "version": 3
   },
   "file_extension": ".py",
   "mimetype": "text/x-python",
   "name": "python",
   "nbconvert_exporter": "python",
   "pygments_lexer": "ipython3",
   "version": "3.8.10"
  },
  "orig_nbformat": 4
 },
 "nbformat": 4,
 "nbformat_minor": 2
}
