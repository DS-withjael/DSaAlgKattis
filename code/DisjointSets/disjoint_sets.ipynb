{
 "cells": [
  {
   "cell_type": "code",
   "execution_count": null,
   "metadata": {},
   "outputs": [],
   "source": [
    "def start():\n",
    "    singletons = input()\n",
    "    disjoint_set = []\n",
    "    for i in range(0, int(singletons), 1):\n",
    "        disjoint_set.append([i])\n",
    "    # return disjoint_set\n",
    "    nr_operations = input()\n",
    "    for i in range(0, int(nr_operations)):\n",
    "        operation = input()\n",
    "        s = input()\n",
    "        t = input()\n",
    "        if operation == \"0\":\n",
    "            query()\n",
    "        \n",
    "\n",
    "\n",
    "# start()\n"
   ]
  },
  {
   "cell_type": "code",
   "execution_count": 3,
   "metadata": {},
   "outputs": [
    {
     "name": "stdout",
     "output_type": "stream",
     "text": [
      "0\n"
     ]
    }
   ],
   "source": [
    "def query(s, S, t, T):\n",
    "    if s in S and t in T:\n",
    "        if S == T:\n",
    "            return print(\"1\")\n",
    "        else:\n",
    "            return print(\"0\")\n",
    "\n",
    "query(4, {1, 4}, 0, {0, 4})"
   ]
  },
  {
   "cell_type": "code",
   "execution_count": null,
   "metadata": {},
   "outputs": [],
   "source": [
    "def union():\n",
    "    "
   ]
  },
  {
   "cell_type": "code",
   "execution_count": null,
   "metadata": {},
   "outputs": [],
   "source": [
    "def move():"
   ]
  }
 ],
 "metadata": {
  "interpreter": {
   "hash": "5a00a9eb55b401af0ef265cf2e0271a91deb7cbec7bf9bc635241a31b5fc804e"
  },
  "kernelspec": {
   "display_name": "Python 3.8.12 64-bit ('base': conda)",
   "language": "python",
   "name": "python3"
  },
  "language_info": {
   "codemirror_mode": {
    "name": "ipython",
    "version": 3
   },
   "file_extension": ".py",
   "mimetype": "text/x-python",
   "name": "python",
   "nbconvert_exporter": "python",
   "pygments_lexer": "ipython3",
   "version": "3.8.12"
  },
  "orig_nbformat": 4
 },
 "nbformat": 4,
 "nbformat_minor": 2
}
