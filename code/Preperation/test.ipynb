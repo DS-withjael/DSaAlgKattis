{
 "cells": [
  {
   "cell_type": "code",
   "execution_count": 3,
   "metadata": {},
   "outputs": [
    {
     "name": "stdout",
     "output_type": "stream",
     "text": [
      "Hello Hello Hello\n"
     ]
    }
   ],
   "source": [
    "word = input().strip()\n",
    "print(word+\" \"+word+\" \"+word)"
   ]
  },
  {
   "cell_type": "code",
   "execution_count": 10,
   "metadata": {},
   "outputs": [
    {
     "name": "stdout",
     "output_type": "stream",
     "text": [
      "hello\n",
      "am\n",
      "echo\n"
     ]
    }
   ],
   "source": [
    "def read_firstline():\n",
    "    line = 0\n",
    "    count = input().strip()\n",
    "    return read_words(count)\n",
    "    \n",
    "def read_words(count):\n",
    "    line = 0\n",
    "    wordlist = []\n",
    "    for i in range(0, int(count)):\n",
    "        word = input().strip()\n",
    "        line+=1\n",
    "        if line % 2 != 0:\n",
    "            wordlist.append(word)\n",
    "    for i in wordlist:\n",
    "        print(i)\n",
    "\n",
    "read_firstline()"
   ]
  },
  {
   "cell_type": "code",
   "execution_count": null,
   "metadata": {},
   "outputs": [],
   "source": []
  }
 ],
 "metadata": {
  "interpreter": {
   "hash": "5a00a9eb55b401af0ef265cf2e0271a91deb7cbec7bf9bc635241a31b5fc804e"
  },
  "kernelspec": {
   "display_name": "Python 3.8.12 64-bit ('base': conda)",
   "language": "python",
   "name": "python3"
  },
  "language_info": {
   "codemirror_mode": {
    "name": "ipython",
    "version": 3
   },
   "file_extension": ".py",
   "mimetype": "text/x-python",
   "name": "python",
   "nbconvert_exporter": "python",
   "pygments_lexer": "ipython3",
   "version": "3.8.12"
  },
  "orig_nbformat": 4
 },
 "nbformat": 4,
 "nbformat_minor": 2
}
